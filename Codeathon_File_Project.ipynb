{
 "cells": [
  {
   "cell_type": "markdown",
   "id": "7e9d38de",
   "metadata": {},
   "source": [
    "# VAISHALI GADEKAR"
   ]
  },
  {
   "cell_type": "markdown",
   "id": "5f0429cb",
   "metadata": {},
   "source": [
    "## Batch: DS22"
   ]
  },
  {
   "cell_type": "markdown",
   "id": "487925de",
   "metadata": {},
   "source": [
    "# CODE-A-THON"
   ]
  },
  {
   "cell_type": "markdown",
   "id": "9e395ba5",
   "metadata": {},
   "source": [
    "## Task Exercise: Level 1a\n",
    "\n"
   ]
  },
  {
   "cell_type": "markdown",
   "id": "3185867c",
   "metadata": {},
   "source": [
    "### 1. Create a empty Tuple"
   ]
  },
  {
   "cell_type": "code",
   "execution_count": 1,
   "id": "cf6f9579",
   "metadata": {},
   "outputs": [],
   "source": [
    "empty_tuple = ()"
   ]
  },
  {
   "cell_type": "markdown",
   "id": "9b84b941",
   "metadata": {},
   "source": [
    "### 2.Create a tuple containing name of your sisters and your brothers"
   ]
  },
  {
   "cell_type": "code",
   "execution_count": 2,
   "id": "52414b64",
   "metadata": {},
   "outputs": [],
   "source": [
    "sisters = ('Kalyani', 'Ojal', 'Pranjali', 'Manaswini')\n",
    "brothers = ('Raj', 'Tejas', 'Akshad', 'Jay')"
   ]
  },
  {
   "cell_type": "markdown",
   "id": "afa6c749",
   "metadata": {},
   "source": [
    "### 3. Join brothers and sisters name tuple and assign to siblings."
   ]
  },
  {
   "cell_type": "code",
   "execution_count": 3,
   "id": "ad14f88f",
   "metadata": {},
   "outputs": [
    {
     "name": "stdout",
     "output_type": "stream",
     "text": [
      "('Kalyani', 'Ojal', 'Pranjali', 'Manaswini', 'Raj', 'Tejas', 'Akshad', 'Jay')\n"
     ]
    }
   ],
   "source": [
    "#3\n",
    "siblings_tuple = (sisters + brothers)\n",
    "print(siblings_tuple)"
   ]
  },
  {
   "cell_type": "markdown",
   "id": "8a3a017c",
   "metadata": {},
   "source": [
    "### 4.How many siblings do you have?"
   ]
  },
  {
   "cell_type": "code",
   "execution_count": 4,
   "id": "eee2712f",
   "metadata": {},
   "outputs": [
    {
     "name": "stdout",
     "output_type": "stream",
     "text": [
      "I have 14 sibilings_tuple\n"
     ]
    }
   ],
   "source": [
    "print('I have',len('siblings_tuple'), 'sibilings_tuple')"
   ]
  },
  {
   "cell_type": "markdown",
   "id": "2bb5e648",
   "metadata": {},
   "source": [
    "### 5. Modify the siblings tuple and add the name of your father and mother and assign it to family_members"
   ]
  },
  {
   "cell_type": "code",
   "execution_count": 5,
   "id": "54069832",
   "metadata": {},
   "outputs": [
    {
     "name": "stdout",
     "output_type": "stream",
     "text": [
      "('Kalyani', 'Ojal', 'Pranjali', 'Manaswini', 'Raj', 'Tejas', 'Akshad', 'Jay', 'Nitin', 'Ujjwala')\n"
     ]
    }
   ],
   "source": [
    "parents = ('Nitin' ,'Ujjwala')\n",
    "family_members = (siblings_tuple + parents)\n",
    "print(family_members)"
   ]
  },
  {
   "cell_type": "markdown",
   "id": "5a88cfb6",
   "metadata": {},
   "source": [
    "## Task Exercise: Level 1b"
   ]
  },
  {
   "cell_type": "markdown",
   "id": "2052ad1a",
   "metadata": {},
   "source": [
    "### 1. Unpack siblings and parents from family_members"
   ]
  },
  {
   "cell_type": "code",
   "execution_count": 6,
   "id": "c0116834",
   "metadata": {},
   "outputs": [],
   "source": [
    "family_members = ('Nitin', 'Ujjwala'), ('Raj', 'Tejas', 'Akshad','Ojal', 'Kalyani', 'Pranjali')\n",
    "(Parents, sibilings) = family_members "
   ]
  },
  {
   "cell_type": "code",
   "execution_count": 8,
   "id": "e455b035",
   "metadata": {},
   "outputs": [
    {
     "name": "stdout",
     "output_type": "stream",
     "text": [
      "('Nitin', 'Ujjwala')\n",
      "('Raj', 'Tejas', 'Akshad', 'Jay')\n",
      "('Kalyani', 'Ojal', 'Pranjali', 'Manaswini')\n"
     ]
    }
   ],
   "source": [
    "print(Parents)\n",
    "print(brothers)\n",
    "print(sisters)"
   ]
  },
  {
   "cell_type": "markdown",
   "id": "6ba6ab32",
   "metadata": {},
   "source": [
    "### 2.Create a tuple containing name of your sisters and your brothers\n",
    "\n"
   ]
  },
  {
   "cell_type": "code",
   "execution_count": 9,
   "id": "36c6831c",
   "metadata": {},
   "outputs": [
    {
     "name": "stdout",
     "output_type": "stream",
     "text": [
      "('apple', 'mango', 'guava', 'watermelon', 'brinjal', 'tomato', 'patato', 'ladyfinger', 'butter', 'yogurt', 'custurd', 'cheese')\n"
     ]
    }
   ],
   "source": [
    "fruits = ('apple', 'mango', 'guava', 'watermelon')\n",
    "vegetables =('brinjal', 'tomato', 'patato', 'ladyfinger')\n",
    "animals_product = ('butter', 'yogurt', 'custurd', 'cheese')\n",
    "food_stuff_tp = fruits + vegetables + animals_product\n",
    "print(food_stuff_tp) "
   ]
  },
  {
   "cell_type": "markdown",
   "id": "e389c59d",
   "metadata": {},
   "source": [
    "### 3.Join brothers and sisters name tuple and assign to siblings"
   ]
  },
  {
   "cell_type": "code",
   "execution_count": 10,
   "id": "021597de",
   "metadata": {},
   "outputs": [
    {
     "data": {
      "text/plain": [
       "['apple',\n",
       " 'mango',\n",
       " 'guava',\n",
       " 'watermelon',\n",
       " 'brinjal',\n",
       " 'tomato',\n",
       " 'patato',\n",
       " 'ladyfinger',\n",
       " 'butter',\n",
       " 'yogurt',\n",
       " 'custurd',\n",
       " 'cheese']"
      ]
     },
     "execution_count": 10,
     "metadata": {},
     "output_type": "execute_result"
    }
   ],
   "source": [
    "food_stuff_list = list(food_stuff_tp)\n",
    "food_stuff_list"
   ]
  },
  {
   "cell_type": "markdown",
   "id": "2384b828",
   "metadata": {},
   "source": [
    "### 4.How many siblings do you have?"
   ]
  },
  {
   "cell_type": "code",
   "execution_count": 11,
   "id": "b9e9a926",
   "metadata": {},
   "outputs": [
    {
     "data": {
      "text/plain": [
       "['brinjal', 'tomato']"
      ]
     },
     "execution_count": 11,
     "metadata": {},
     "output_type": "execute_result"
    }
   ],
   "source": [
    "food_stuff_list[4:6]"
   ]
  },
  {
   "cell_type": "markdown",
   "id": "1787ff16",
   "metadata": {},
   "source": [
    "### 5.Modify the siblings tuple and add the name of your father and mother and assign it to family_members"
   ]
  },
  {
   "cell_type": "code",
   "execution_count": 12,
   "id": "216629bc",
   "metadata": {},
   "outputs": [
    {
     "name": "stdout",
     "output_type": "stream",
     "text": [
      "First 3 items of food_stuff_list:  ('apple', 'mango', 'guava')\n",
      "Last 3 items of food_stuff_list:  ('yogurt', 'custurd', 'cheese')\n"
     ]
    }
   ],
   "source": [
    "print('First 3 items of food_stuff_list: ', food_stuff_tp[:3])\n",
    "print('Last 3 items of food_stuff_list: ', food_stuff_tp[-3:])"
   ]
  },
  {
   "cell_type": "markdown",
   "id": "d57201ed",
   "metadata": {},
   "source": [
    "### 6.Delete the food_stuff_tp tuple completely"
   ]
  },
  {
   "cell_type": "code",
   "execution_count": 13,
   "id": "7eaa49d6",
   "metadata": {},
   "outputs": [],
   "source": [
    "del food_stuff_tp"
   ]
  },
  {
   "cell_type": "markdown",
   "id": "b0579e7d",
   "metadata": {},
   "source": [
    "### 7.Check if an item exists in tuple(nordic_countries)"
   ]
  },
  {
   "cell_type": "code",
   "execution_count": 14,
   "id": "667975f2",
   "metadata": {},
   "outputs": [
    {
     "name": "stdout",
     "output_type": "stream",
     "text": [
      "False\n",
      "True\n"
     ]
    }
   ],
   "source": [
    "nordic_countries = ('Denmark', 'Finland', 'Iceland', 'Norway', 'Sweden')\n",
    "print('Estonia' in nordic_countries)\n",
    "print('Iceland' in nordic_countries)"
   ]
  },
  {
   "cell_type": "markdown",
   "id": "389de09e",
   "metadata": {},
   "source": [
    "## Task Exercise: Level 2a"
   ]
  },
  {
   "cell_type": "markdown",
   "id": "51cd3890",
   "metadata": {},
   "source": [
    "### 1.Find the length of the set It_companies"
   ]
  },
  {
   "cell_type": "code",
   "execution_count": 15,
   "id": "c579be77",
   "metadata": {},
   "outputs": [
    {
     "name": "stdout",
     "output_type": "stream",
     "text": [
      "Length of set IT_companies:  7\n"
     ]
    }
   ],
   "source": [
    "IT_companies = {'Facebook', 'Google', 'Microsoft', 'Apple', 'IBM', 'Oracle', 'Amazon'}\n",
    "print('Length of set IT_companies: ', len(IT_companies))"
   ]
  },
  {
   "cell_type": "markdown",
   "id": "836303c8",
   "metadata": {},
   "source": [
    "### 2. Add 'Twitter' to It_companies"
   ]
  },
  {
   "cell_type": "code",
   "execution_count": 16,
   "id": "9529ecd6",
   "metadata": {},
   "outputs": [
    {
     "name": "stdout",
     "output_type": "stream",
     "text": [
      "{'Microsoft', 'Twitter', 'IBM', 'Apple', 'Amazon', 'Facebook', 'Oracle', 'Google'}\n"
     ]
    }
   ],
   "source": [
    "IT_companies.add('Twitter')\n",
    "print(IT_companies)"
   ]
  },
  {
   "cell_type": "markdown",
   "id": "fd50b0e8",
   "metadata": {},
   "source": [
    "### 3.Insert multiple IT companies at once to the set it_companies"
   ]
  },
  {
   "cell_type": "code",
   "execution_count": 17,
   "id": "939b2779",
   "metadata": {},
   "outputs": [
    {
     "name": "stdout",
     "output_type": "stream",
     "text": [
      "{'Microsoft', 'Amazon', 'Oracle', 'IBM', 'Google', 'Twitter', 'TCS', 'Apple', 'cognizant', 'Facebook'}\n"
     ]
    }
   ],
   "source": [
    "a = 'TCS', 'cognizant'\n",
    "IT_companies.update(a)\n",
    "print(IT_companies)"
   ]
  },
  {
   "cell_type": "markdown",
   "id": "6f5cbccd",
   "metadata": {},
   "source": [
    "### 4.Remove one of the companies from the set it_companies"
   ]
  },
  {
   "cell_type": "code",
   "execution_count": 18,
   "id": "379de5d4",
   "metadata": {},
   "outputs": [
    {
     "name": "stdout",
     "output_type": "stream",
     "text": [
      "{'Microsoft', 'Oracle', 'IBM', 'Google', 'Twitter', 'TCS', 'Apple', 'cognizant', 'Facebook'}\n"
     ]
    }
   ],
   "source": [
    "IT_companies.remove('Amazon')\n",
    "print(IT_companies)"
   ]
  },
  {
   "cell_type": "markdown",
   "id": "d482cef8",
   "metadata": {},
   "source": [
    "### 5.What is the difference between remove and discard"
   ]
  },
  {
   "cell_type": "markdown",
   "id": "a8d4664f",
   "metadata": {},
   "source": [
    "- Remove:The remove() method will raise an error if the specified item does not exist\n",
    "- Discard:The discard() method removes the specified item from the set."
   ]
  },
  {
   "cell_type": "markdown",
   "id": "4d0d5776",
   "metadata": {},
   "source": [
    "## Task Exercise: Level 2b"
   ]
  },
  {
   "cell_type": "markdown",
   "id": "4ff9583f",
   "metadata": {},
   "source": [
    "### 1.Join A and B"
   ]
  },
  {
   "cell_type": "code",
   "execution_count": 19,
   "id": "b1a9888e",
   "metadata": {},
   "outputs": [
    {
     "data": {
      "text/plain": [
       "{19, 20, 22, 24, 25, 26, 27, 28}"
      ]
     },
     "execution_count": 19,
     "metadata": {},
     "output_type": "execute_result"
    }
   ],
   "source": [
    "A = {19, 22, 24, 20, 25, 26}\n",
    "B = {19, 22, 24, 20, 25, 26, 24, 28, 27}\n",
    "c = A.union(B)\n",
    "c"
   ]
  },
  {
   "cell_type": "markdown",
   "id": "1c784a70",
   "metadata": {},
   "source": [
    "### 2.Find A intersection B"
   ]
  },
  {
   "cell_type": "code",
   "execution_count": 20,
   "id": "1aa62a33",
   "metadata": {},
   "outputs": [
    {
     "name": "stdout",
     "output_type": "stream",
     "text": [
      "A intersection B:  {19, 20, 22, 24, 25, 26}\n"
     ]
    }
   ],
   "source": [
    "print('A intersection B: ', A & B)"
   ]
  },
  {
   "cell_type": "markdown",
   "id": "708e4ce6",
   "metadata": {},
   "source": [
    "### 3.Is A subset of B"
   ]
  },
  {
   "cell_type": "code",
   "execution_count": 21,
   "id": "a6641287",
   "metadata": {},
   "outputs": [
    {
     "data": {
      "text/plain": [
       "True"
      ]
     },
     "execution_count": 21,
     "metadata": {},
     "output_type": "execute_result"
    }
   ],
   "source": [
    "A.issubset(B)"
   ]
  },
  {
   "cell_type": "markdown",
   "id": "d500bb80",
   "metadata": {},
   "source": [
    "### 4.Are A and B disjoint sets"
   ]
  },
  {
   "cell_type": "code",
   "execution_count": 22,
   "id": "5ba48b56",
   "metadata": {},
   "outputs": [
    {
     "data": {
      "text/plain": [
       "False"
      ]
     },
     "execution_count": 22,
     "metadata": {},
     "output_type": "execute_result"
    }
   ],
   "source": [
    "A.isdisjoint(B)"
   ]
  },
  {
   "cell_type": "markdown",
   "id": "904c1a7d",
   "metadata": {},
   "source": [
    "### 5.Join A with B and B with A"
   ]
  },
  {
   "cell_type": "code",
   "execution_count": 23,
   "id": "ae283088",
   "metadata": {},
   "outputs": [
    {
     "name": "stdout",
     "output_type": "stream",
     "text": [
      "{19, 20, 22, 24, 25, 26, 27, 28}\n",
      "{19, 20, 22, 24, 25, 26, 27, 28}\n"
     ]
    }
   ],
   "source": [
    "N = A.union(B)\n",
    "V = B.union(A)\n",
    "print(N)\n",
    "print(V)"
   ]
  },
  {
   "cell_type": "markdown",
   "id": "60969898",
   "metadata": {},
   "source": [
    "### 6.What is the symmetric difference between A and B"
   ]
  },
  {
   "cell_type": "code",
   "execution_count": 24,
   "id": "ce65fb45",
   "metadata": {},
   "outputs": [
    {
     "data": {
      "text/plain": [
       "{27, 28}"
      ]
     },
     "execution_count": 24,
     "metadata": {},
     "output_type": "execute_result"
    }
   ],
   "source": [
    "K = A.symmetric_difference(B)\n",
    "K"
   ]
  },
  {
   "cell_type": "markdown",
   "id": "1fe1b0d3",
   "metadata": {},
   "source": [
    "### 7.Delete the sets completely"
   ]
  },
  {
   "cell_type": "code",
   "execution_count": 25,
   "id": "b31a999c",
   "metadata": {},
   "outputs": [],
   "source": [
    "del A, B"
   ]
  },
  {
   "cell_type": "markdown",
   "id": "4333e687",
   "metadata": {},
   "source": [
    "## Task Exercise: Level 2c"
   ]
  },
  {
   "cell_type": "markdown",
   "id": "26232610",
   "metadata": {},
   "source": [
    "### 1.Convert the ages to a set and compare the length of the list and the set,which one bigger?"
   ]
  },
  {
   "cell_type": "code",
   "execution_count": 26,
   "id": "f8833a01",
   "metadata": {},
   "outputs": [
    {
     "name": "stdout",
     "output_type": "stream",
     "text": [
      "Length of the age_set:  5\n",
      "Lenth of the list age:  8\n",
      "Lenth of the list of age is grerater than age_set.\n"
     ]
    }
   ],
   "source": [
    "age = [22, 19, 24, 25, 26, 24, 25, 24]\n",
    "age_set = set(age)\n",
    "print(\"Length of the age_set: \", len(age_set))\n",
    "print(\"Lenth of the list age: \", len(age))\n",
    "print(\"Lenth of the list of age is grerater than age_set.\")"
   ]
  },
  {
   "cell_type": "markdown",
   "id": "d5b48f7d",
   "metadata": {},
   "source": [
    "### 2.Explain the difference between the following data types:string,list,tuple and set"
   ]
  },
  {
   "cell_type": "markdown",
   "id": "6d10bae6",
   "metadata": {},
   "source": [
    "- String- string is a built-in type sequence,it is the simplest and easy way to use in python,we simply enclose a text in single as well as double-quotes.\n",
    "- List - List is a one dimentional, immutable ordered sequenceof items which can be of mixed data types and always given in [].\n",
    "- Tuple - A tuple is a one dimentional, immutable ordered sequence of items which can be of mixed data types and are always given in().\n",
    "- Set - A set is an unordered collection data typesyhat is iterable, mutable and has no duplicate and are always given in {}."
   ]
  },
  {
   "cell_type": "markdown",
   "id": "14d6c471",
   "metadata": {},
   "source": [
    "### have been used in the sentence? Use the split methods and set to get the unique words."
   ]
  },
  {
   "cell_type": "code",
   "execution_count": 27,
   "id": "d4ee0140",
   "metadata": {},
   "outputs": [
    {
     "data": {
      "text/plain": [
       "'I am a teacher and I love to insipre and teach people'"
      ]
     },
     "execution_count": 27,
     "metadata": {},
     "output_type": "execute_result"
    }
   ],
   "source": [
    "sentence = (\"I am a teacher and I love to insipre and teach people\")\n",
    "sentence"
   ]
  },
  {
   "cell_type": "code",
   "execution_count": 28,
   "id": "3badd755",
   "metadata": {},
   "outputs": [
    {
     "data": {
      "text/plain": [
       "['I',\n",
       " 'am',\n",
       " 'a',\n",
       " 'teacher',\n",
       " 'and',\n",
       " 'I',\n",
       " 'love',\n",
       " 'to',\n",
       " 'insipre',\n",
       " 'and',\n",
       " 'teach',\n",
       " 'people']"
      ]
     },
     "execution_count": 28,
     "metadata": {},
     "output_type": "execute_result"
    }
   ],
   "source": [
    "a1 = sentence.split()\n",
    "a1   "
   ]
  },
  {
   "cell_type": "code",
   "execution_count": 29,
   "id": "9fdcb555",
   "metadata": {},
   "outputs": [
    {
     "data": {
      "text/plain": [
       "array(['I', 'a', 'am', 'and', 'insipre', 'love', 'people', 'teach',\n",
       "       'teacher', 'to'], dtype='<U7')"
      ]
     },
     "execution_count": 29,
     "metadata": {},
     "output_type": "execute_result"
    }
   ],
   "source": [
    "import numpy as np\n",
    "a = np.array(a1)\n",
    "a1\n",
    "\n",
    "np.unique(a)"
   ]
  },
  {
   "cell_type": "markdown",
   "id": "be83dc0e",
   "metadata": {},
   "source": [
    "## Task exercise: Level 3a"
   ]
  },
  {
   "cell_type": "markdown",
   "id": "1b0ecfd4",
   "metadata": {},
   "source": [
    "### 1.Create an empty dictionary called dog"
   ]
  },
  {
   "cell_type": "code",
   "execution_count": 30,
   "id": "083cbd62",
   "metadata": {},
   "outputs": [
    {
     "name": "stdout",
     "output_type": "stream",
     "text": [
      "dog:  {}\n"
     ]
    }
   ],
   "source": [
    "dog = dict()\n",
    "print(\"dog: \", dog)"
   ]
  },
  {
   "cell_type": "markdown",
   "id": "50f9824a",
   "metadata": {},
   "source": [
    "### 2.Add name, color, breed, legs, age to the dog dictionary\n"
   ]
  },
  {
   "cell_type": "code",
   "execution_count": 31,
   "id": "0f3f0cab",
   "metadata": {},
   "outputs": [
    {
     "name": "stdout",
     "output_type": "stream",
     "text": [
      "dog:  {'Name': 'Rocky', 'Color': 'Black', 'Breed': 'German shepherd', 'legs': '4', 'Age': '8'}\n"
     ]
    }
   ],
   "source": [
    "dog.update({'Name': 'Rocky', 'Color': 'Black', 'Breed': 'German shepherd', 'legs': '4', 'Age': '8'})\n",
    "print(\"dog: \", dog)"
   ]
  },
  {
   "cell_type": "markdown",
   "id": "d9e11082",
   "metadata": {},
   "source": [
    "### 3.Create a student dictionary and add first_name , last_name , gender , age , marital status , skills , country , city and address as keys for the dictionary"
   ]
  },
  {
   "cell_type": "code",
   "execution_count": 32,
   "id": "92106d68",
   "metadata": {},
   "outputs": [
    {
     "name": "stdout",
     "output_type": "stream",
     "text": [
      "student_dict:  {'Name': 'Netranjali', 'Last_name': 'Avhad', 'Gender': 'Female', 'age': '24', 'marital status': 'Unmarried', 'skills': ['Machine Learning', 'SQL'], 'Country': 'India', 'city': 'Nashik', 'address': 'Gandhinagar'}\n"
     ]
    }
   ],
   "source": [
    "student_dict = dict()\n",
    "student_dict.update({'Name': 'Netranjali', 'Last_name': 'Avhad', 'Gender': 'Female', 'age': '24', 'marital status': 'Unmarried', 'skills': ['Machine Learning', 'SQL'], 'Country': 'India','city': 'Nashik', 'address': 'Gandhinagar'})\n",
    "print('student_dict: ', student_dict)"
   ]
  },
  {
   "cell_type": "markdown",
   "id": "f1dcc990",
   "metadata": {},
   "source": [
    "### 4.Get the length of the student dictionary"
   ]
  },
  {
   "cell_type": "code",
   "execution_count": 33,
   "id": "be24e2dc",
   "metadata": {},
   "outputs": [
    {
     "name": "stdout",
     "output_type": "stream",
     "text": [
      "9\n"
     ]
    }
   ],
   "source": [
    "print(len(student_dict))"
   ]
  },
  {
   "cell_type": "markdown",
   "id": "c25b3205",
   "metadata": {},
   "source": [
    "### 5.Get the value of skills and check the data type,it should be a list"
   ]
  },
  {
   "cell_type": "code",
   "execution_count": 34,
   "id": "44e7b241",
   "metadata": {},
   "outputs": [
    {
     "name": "stdout",
     "output_type": "stream",
     "text": [
      "['Machine Learning', 'SQL']\n",
      "Data type of a skills of the student:  <class 'dict'>\n"
     ]
    }
   ],
   "source": [
    "print(student_dict[\"skills\"])\n",
    "print('Data type of a skills of the student: ', type(student_dict))"
   ]
  },
  {
   "cell_type": "markdown",
   "id": "5e823a77",
   "metadata": {},
   "source": [
    "### 6.Get the value of skills and check the data type,it should be a list"
   ]
  },
  {
   "cell_type": "code",
   "execution_count": 35,
   "id": "7a3eae89",
   "metadata": {},
   "outputs": [
    {
     "data": {
      "text/plain": [
       "['Machine Learning', 'SQL', 'Python', 'Artificial Intelligence']"
      ]
     },
     "execution_count": 35,
     "metadata": {},
     "output_type": "execute_result"
    }
   ],
   "source": [
    "student_dict[\"skills\"] += \"Python\", \"Artificial Intelligence\"\n",
    "student_dict[\"skills\"] "
   ]
  },
  {
   "cell_type": "markdown",
   "id": "a567c617",
   "metadata": {},
   "source": [
    "### 7.Get Dictionary keys as a list"
   ]
  },
  {
   "cell_type": "code",
   "execution_count": 36,
   "id": "6870c089",
   "metadata": {},
   "outputs": [
    {
     "name": "stdout",
     "output_type": "stream",
     "text": [
      "dict_keys(['Name', 'Last_name', 'Gender', 'age', 'marital status', 'skills', 'Country', 'city', 'address'])\n"
     ]
    }
   ],
   "source": [
    "student_dict = ({'Name': 'Netranjali', 'Last_name': 'Avhad', 'Gender': 'Female', 'age': '24', 'marital status': 'Unmarried', 'skills': ['Machine Learning', 'SQL'], 'Country': 'India','city': 'Nashik', 'address': 'Gandhinagar'})\n",
    "print(student_dict.keys())"
   ]
  },
  {
   "cell_type": "markdown",
   "id": "d770ec9c",
   "metadata": {},
   "source": [
    "### 8.Get the dictionary values as a list"
   ]
  },
  {
   "cell_type": "code",
   "execution_count": 37,
   "id": "8a03c60c",
   "metadata": {},
   "outputs": [
    {
     "data": {
      "text/plain": [
       "['Netranjali',\n",
       " 'Avhad',\n",
       " 'Female',\n",
       " '24',\n",
       " 'Unmarried',\n",
       " ['Machine Learning', 'SQL'],\n",
       " 'India',\n",
       " 'Nashik',\n",
       " 'Gandhinagar']"
      ]
     },
     "execution_count": 37,
     "metadata": {},
     "output_type": "execute_result"
    }
   ],
   "source": [
    "Values = list(student_dict.values())\n",
    "Values"
   ]
  },
  {
   "cell_type": "markdown",
   "id": "2cd06953",
   "metadata": {},
   "source": [
    "### 9.Change the dictionary to a list of tuples using items() method"
   ]
  },
  {
   "cell_type": "code",
   "execution_count": 38,
   "id": "3849b815",
   "metadata": {},
   "outputs": [
    {
     "data": {
      "text/plain": [
       "[('Name', 'Netranjali'),\n",
       " ('Last_name', 'Avhad'),\n",
       " ('Gender', 'Female'),\n",
       " ('age', '24'),\n",
       " ('marital status', 'Unmarried'),\n",
       " ('skills', ['Machine Learning', 'SQL']),\n",
       " ('Country', 'India'),\n",
       " ('city', 'Nashik'),\n",
       " ('address', 'Gandhinagar')]"
      ]
     },
     "execution_count": 38,
     "metadata": {},
     "output_type": "execute_result"
    }
   ],
   "source": [
    "list1 = list(student_dict.items())\n",
    "list1"
   ]
  },
  {
   "cell_type": "markdown",
   "id": "b7844dd1",
   "metadata": {},
   "source": [
    "### 10.Delete one of the items in the dictionary"
   ]
  },
  {
   "cell_type": "code",
   "execution_count": 39,
   "id": "bc92054d",
   "metadata": {},
   "outputs": [
    {
     "data": {
      "text/plain": [
       "{'Name': 'Netranjali',\n",
       " 'Last_name': 'Avhad',\n",
       " 'Gender': 'Female',\n",
       " 'age': '24',\n",
       " 'marital status': 'Unmarried',\n",
       " 'skills': ['Machine Learning', 'SQL'],\n",
       " 'Country': 'India',\n",
       " 'address': 'Gandhinagar'}"
      ]
     },
     "execution_count": 39,
     "metadata": {},
     "output_type": "execute_result"
    }
   ],
   "source": [
    "student_dict.pop('city')\n",
    "student_dict"
   ]
  },
  {
   "cell_type": "markdown",
   "id": "b0e62e57",
   "metadata": {},
   "source": [
    "### 11.Delete one of the dictionaries"
   ]
  },
  {
   "cell_type": "code",
   "execution_count": 40,
   "id": "80d7dca2",
   "metadata": {},
   "outputs": [],
   "source": [
    "del student_dict"
   ]
  },
  {
   "cell_type": "markdown",
   "id": "260241e1",
   "metadata": {},
   "source": [
    "## Task Exercise: Level 4a"
   ]
  },
  {
   "cell_type": "markdown",
   "id": "85618d64",
   "metadata": {},
   "source": [
    "### 1.Get user input using input(\"Enter your age:\").If user is 18 or older,give feedback: You are old enough to drive.If below 18 give feedback to wait for the missing amount of years."
   ]
  },
  {
   "cell_type": "code",
   "execution_count": 41,
   "id": "45dc3806",
   "metadata": {},
   "outputs": [
    {
     "name": "stdout",
     "output_type": "stream",
     "text": [
      "Enter your age: 30\n",
      "You are old enough to drive\n",
      "Enter your age: 15\n",
      "You need  3 more years to learn drive \n"
     ]
    }
   ],
   "source": [
    "age = int(input(\"Enter your age: \"))\n",
    "if (age > 18):\n",
    "        print(\"You are old enough to drive\")\n",
    "else:\n",
    "    print(\"You need \" ,(18-age),\"more years to learn drive \")\n",
    "\n",
    "    \n",
    "#1\n",
    "age = int(input(\"Enter your age: \"))\n",
    "if (age > 18):\n",
    "        print(\"You are old enough to drive\")\n",
    "else:\n",
    "    print(\"You need \" ,(18-age),\"more years to learn drive \")"
   ]
  },
  {
   "cell_type": "markdown",
   "id": "a8df5299",
   "metadata": {},
   "source": [
    "### 2.Compare the values of my_age and your_age using if..else.Who is older(me or you)? Use input(\"Enter your age:\") to get the age as input.You can use a nested condition to print 'year' for 1 year difference in age,'years' for bigger differences,and a custom text if my_age=your_age."
   ]
  },
  {
   "cell_type": "code",
   "execution_count": 42,
   "id": "815df39c",
   "metadata": {},
   "outputs": [
    {
     "name": "stdout",
     "output_type": "stream",
     "text": [
      "Enter your age: 35\n",
      "We are same age\n"
     ]
    }
   ],
   "source": [
    "your_age = int(input('Enter your age: '))\n",
    "my_age = 35\n",
    "if your_age==my_age+1:\n",
    "    print('You are 1 year older than me')\n",
    "elif your_age>my_age+1:\n",
    "    print('You are', (your_age-my_age), 'years older than me')\n",
    "elif your_age==my_age:\n",
    "    print('We are same age')\n",
    "else:\n",
    "    print('You are', (my_age-your_age), 'years younger than me')"
   ]
  },
  {
   "cell_type": "markdown",
   "id": "8109ec7b",
   "metadata": {},
   "source": [
    "### 3.Get two numbers from the user using input prompt. If a is greater than b return a is greater than b, if a is less b return a is smaller than b , else a is equal to b."
   ]
  },
  {
   "cell_type": "code",
   "execution_count": 43,
   "id": "2708a202",
   "metadata": {},
   "outputs": [
    {
     "name": "stdout",
     "output_type": "stream",
     "text": [
      "Enter number one: 4\n",
      "Enter number two: 3\n",
      "4 is greater than 3\n"
     ]
    }
   ],
   "source": [
    "a = int(input('Enter number one: '))\n",
    "b = int(input('Enter number two: '))\n",
    "if(a>b):\n",
    "    print(a, 'is greater than', b)\n",
    "elif(a<b):\n",
    "    print(a, 'is samaller than', b)\n",
    "else:\n",
    "    print(a, 'is equal to', b)"
   ]
  },
  {
   "cell_type": "markdown",
   "id": "60b621db",
   "metadata": {},
   "source": [
    "## Task Exercise: Level 4b"
   ]
  },
  {
   "cell_type": "markdown",
   "id": "1f87e254",
   "metadata": {},
   "source": [
    "### 1.Write a code which gives grade to students according to theirs scores:"
   ]
  },
  {
   "cell_type": "code",
   "execution_count": 44,
   "id": "cd4ad1cf",
   "metadata": {},
   "outputs": [
    {
     "name": "stdout",
     "output_type": "stream",
     "text": [
      "Enter your scores: 90\n",
      "A\n"
     ]
    }
   ],
   "source": [
    "a = int(input('Enter your scores: '))\n",
    "if (80<=a<=100):\n",
    "    print('A')\n",
    "elif (70<=a<89):\n",
    "    print('B')\n",
    "elif (60<=a<69):\n",
    "    print('C')\n",
    "elif (50<=a<59):\n",
    "    print('D')\n",
    "elif (0<=a<49):\n",
    "    print('F')"
   ]
  },
  {
   "cell_type": "markdown",
   "id": "e06111d0",
   "metadata": {},
   "source": [
    "### 2.Check if the season is Autumu,Winter,Spring or Summer.If the user input is: September,October or November,the season is Autumu.December,January or February, the season is Winter.March,April or May, the season is Spring June,July or August, the season is Summer"
   ]
  },
  {
   "cell_type": "code",
   "execution_count": 46,
   "id": "cc7bab00",
   "metadata": {},
   "outputs": [
    {
     "name": "stdout",
     "output_type": "stream",
     "text": [
      "Enter the month:April\n",
      "The season is Spring\n"
     ]
    }
   ],
   "source": [
    "month = str(input('Enter the month:'))\n",
    "if month in ['September', 'October', 'November']:\n",
    "    print('The season is Autumn')\n",
    "elif month in ['December', 'January', 'Febuary']:\n",
    "    print('The season is Winter')\n",
    "elif month in ['March', 'April', 'May']:\n",
    "    print('The season is Spring')\n",
    "elif month in ['June', 'July', 'August']:\n",
    "    print('The season is Summer')"
   ]
  },
  {
   "cell_type": "markdown",
   "id": "4b95e002",
   "metadata": {},
   "source": [
    "### 3.The following list contains some fruits:"
   ]
  },
  {
   "cell_type": "code",
   "execution_count": 47,
   "id": "48d5a17c",
   "metadata": {},
   "outputs": [
    {
     "name": "stdout",
     "output_type": "stream",
     "text": [
      "Enter the name of the fruit here: cherry\n",
      "Modified list of fruits:  ['banana', 'orange', 'mango', 'lemon', 'cherry']\n"
     ]
    }
   ],
   "source": [
    "a = str(input('Enter the name of the fruit here: '))\n",
    "fruits = ['banana', 'orange', 'mango', 'lemon']\n",
    "if a in fruits:\n",
    "    print('That fruit already exist in the list')\n",
    "else:\n",
    "    fruits.append(a)\n",
    "    print('Modified list of fruits: ', fruits)"
   ]
  },
  {
   "cell_type": "markdown",
   "id": "0c29a5ad",
   "metadata": {},
   "source": [
    "## Task Exercise: Level 4c"
   ]
  },
  {
   "cell_type": "markdown",
   "id": "a311b7e6",
   "metadata": {},
   "source": [
    "### 1.Here we have a person dictionary.Feel free to modify it!"
   ]
  },
  {
   "cell_type": "code",
   "execution_count": 49,
   "id": "e0a5d73e",
   "metadata": {},
   "outputs": [
    {
     "name": "stdout",
     "output_type": "stream",
     "text": [
      "The middle skills in the skill list:  MongoDB\n",
      "Skills of the person:  ['JavaScript', 'html', 'React', 'Node', 'MongoDB', 'Python', 'R', 'Analystics Software']\n"
     ]
    }
   ],
   "source": [
    "person={\n",
    "    'first_name': 'Trainee',\n",
    "    'last_name': 'Coder',\n",
    "    'age': 25,\n",
    "    'country': 'India',\n",
    "    'is_married': False,\n",
    "    'skills': ['JavaScript', 'html', 'React','Node', 'MongoDB', 'Python', 'R', 'Analystics Software'],\n",
    "    'address':{\n",
    "        'Stress': ['New Delhi', 'Banglore'],\n",
    "        'zipcode': '100010'}\n",
    "}\n",
    "\n",
    "b = int(len(person['skills'])/2)    \n",
    "c = person['skills']\n",
    "a = 'skills' in person\n",
    "d = 'Python' in c\n",
    "\n",
    "\n",
    "#3\n",
    "if a == True:\n",
    "    print('The middle skills in the skill list: ', c[b])\n",
    "else:\n",
    "    pass\n",
    "\n",
    "#4\n",
    "if a == True & d == True:\n",
    "    print('Skills of the person: ', c)\n",
    "else:\n",
    "    pass\n",
    "\n",
    "if person['is_married']=='False' and person['country']=='India':\n",
    "    print('{} {} lives in India. He is not married.' .format(person['first_name'], person['last_name']))\n",
    "else:\n",
    "    pass\n",
    "    "
   ]
  },
  {
   "cell_type": "code",
   "execution_count": 50,
   "id": "695daa0d",
   "metadata": {},
   "outputs": [
    {
     "data": {
      "text/plain": [
       "4"
      ]
     },
     "execution_count": 50,
     "metadata": {},
     "output_type": "execute_result"
    }
   ],
   "source": [
    "int(len(person['skills'])/2)"
   ]
  },
  {
   "cell_type": "markdown",
   "id": "83cbf830",
   "metadata": {},
   "source": [
    "## Task Exercise: Level 5a"
   ]
  },
  {
   "cell_type": "markdown",
   "id": "68c12a1a",
   "metadata": {},
   "source": [
    "### 1.Iterate 0 to 10 using for loop, do the same using while loop."
   ]
  },
  {
   "cell_type": "code",
   "execution_count": 51,
   "id": "e96eb06f",
   "metadata": {},
   "outputs": [
    {
     "name": "stdout",
     "output_type": "stream",
     "text": [
      "0\n",
      "1\n",
      "2\n",
      "3\n",
      "4\n",
      "5\n",
      "6\n",
      "7\n",
      "8\n",
      "9\n",
      "10\n"
     ]
    }
   ],
   "source": [
    "for i in range (11):\n",
    "    print(i)"
   ]
  },
  {
   "cell_type": "markdown",
   "id": "18e600e6",
   "metadata": {},
   "source": [
    "### 2.Iterate 10 to 0 using for loop, do the same using while loop.\n"
   ]
  },
  {
   "cell_type": "code",
   "execution_count": 52,
   "id": "74c101a1",
   "metadata": {},
   "outputs": [
    {
     "name": "stdout",
     "output_type": "stream",
     "text": [
      "0\n",
      "1\n",
      "2\n",
      "3\n",
      "4\n",
      "5\n",
      "6\n",
      "7\n",
      "8\n",
      "9\n",
      "10\n"
     ]
    }
   ],
   "source": [
    "i = 0 \n",
    "while i < 11:\n",
    "    print(i)\n",
    "    i = i+1"
   ]
  },
  {
   "cell_type": "markdown",
   "id": "f172b260",
   "metadata": {},
   "source": [
    "### 3.Write a loop that makes seven calls to print(),so we get on the output the following triangle:"
   ]
  },
  {
   "cell_type": "code",
   "execution_count": 53,
   "id": "007b0b9f",
   "metadata": {},
   "outputs": [
    {
     "name": "stdout",
     "output_type": "stream",
     "text": [
      "\n",
      "# \n",
      "# # \n",
      "# # # \n",
      "# # # # \n",
      "# # # # # \n",
      "# # # # # # \n",
      "# # # # # # # \n"
     ]
    }
   ],
   "source": [
    "for i in range (8):\n",
    "    for j in range(1,i+1):\n",
    "        print('#', end = ' ')\n",
    "    print()"
   ]
  },
  {
   "cell_type": "markdown",
   "id": "cc8dcec7",
   "metadata": {},
   "source": [
    "### 4.Use nested loops to create the following"
   ]
  },
  {
   "cell_type": "code",
   "execution_count": 54,
   "id": "2ddbd907",
   "metadata": {},
   "outputs": [
    {
     "name": "stdout",
     "output_type": "stream",
     "text": [
      "# # # # # # # # \n",
      "# # # # # # # # \n",
      "# # # # # # # # \n",
      "# # # # # # # # \n",
      "# # # # # # # # \n",
      "# # # # # # # # \n",
      "# # # # # # # # \n",
      "# # # # # # # # \n"
     ]
    }
   ],
   "source": [
    "\n",
    "for i in range (1, 9):\n",
    "    for j in range(1, 9):\n",
    "        print('#', end= ' ')\n",
    "    print()"
   ]
  },
  {
   "cell_type": "markdown",
   "id": "cc496f06",
   "metadata": {},
   "source": [
    "### 5.Print the following pattern:"
   ]
  },
  {
   "cell_type": "code",
   "execution_count": 55,
   "id": "bb2732fc",
   "metadata": {},
   "outputs": [
    {
     "name": "stdout",
     "output_type": "stream",
     "text": [
      "0 x 0 = 0\n",
      "1 x 1 = 1\n",
      "2 x 2 = 4\n",
      "3 x 3 = 9\n",
      "4 x 4 = 16\n",
      "5 x 5 = 25\n",
      "6 x 6 = 36\n",
      "7 x 7 = 49\n",
      "8 x 8 = 64\n",
      "9 x 9 = 81\n",
      "10 x 10 = 100\n"
     ]
    }
   ],
   "source": [
    "for i in range(11):\n",
    "    print(i, 'x', i, '=', i*i)\n",
    "    i=i+1"
   ]
  },
  {
   "cell_type": "markdown",
   "id": "884ae80b",
   "metadata": {},
   "source": [
    "### 6.Iterate through the list,['Python','Numpy','Matplotlib','Scikit-Learn'] using a for loop and print out the items."
   ]
  },
  {
   "cell_type": "code",
   "execution_count": 56,
   "id": "5257e4d5",
   "metadata": {},
   "outputs": [
    {
     "name": "stdout",
     "output_type": "stream",
     "text": [
      "Python\n",
      "Numpy\n",
      "Pandas\n",
      "Matplotlib\n",
      "Scikit-Learn\n"
     ]
    }
   ],
   "source": [
    "list=['Python', 'Numpy', 'Pandas', 'Matplotlib', 'Scikit-Learn']\n",
    "for i in list:\n",
    "    print(i)"
   ]
  },
  {
   "cell_type": "markdown",
   "id": "63ab3db6",
   "metadata": {},
   "source": [
    "### 7.Use for loop to iterate from 0 to 100 and print only even numbers"
   ]
  },
  {
   "cell_type": "code",
   "execution_count": 57,
   "id": "17534e32",
   "metadata": {},
   "outputs": [
    {
     "name": "stdout",
     "output_type": "stream",
     "text": [
      "0\n",
      "2\n",
      "4\n",
      "6\n",
      "8\n",
      "10\n",
      "12\n",
      "14\n",
      "16\n",
      "18\n",
      "20\n",
      "22\n",
      "24\n",
      "26\n",
      "28\n",
      "30\n",
      "32\n",
      "34\n",
      "36\n",
      "38\n",
      "40\n",
      "42\n",
      "44\n",
      "46\n",
      "48\n",
      "50\n",
      "52\n",
      "54\n",
      "56\n",
      "58\n",
      "60\n",
      "62\n",
      "64\n",
      "66\n",
      "68\n",
      "70\n",
      "72\n",
      "74\n",
      "76\n",
      "78\n",
      "80\n",
      "82\n",
      "84\n",
      "86\n",
      "88\n",
      "90\n",
      "92\n",
      "94\n",
      "96\n",
      "98\n",
      "100\n"
     ]
    }
   ],
   "source": [
    "for i in range(101):\n",
    "    if i%2==0:\n",
    "        print(i)"
   ]
  },
  {
   "cell_type": "markdown",
   "id": "94c5a5bf",
   "metadata": {},
   "source": [
    "### 8.Use for loop to iterate from 0 to 100 and print only odd numbers"
   ]
  },
  {
   "cell_type": "code",
   "execution_count": 58,
   "id": "664826b1",
   "metadata": {},
   "outputs": [
    {
     "name": "stdout",
     "output_type": "stream",
     "text": [
      "1\n",
      "3\n",
      "5\n",
      "7\n",
      "9\n",
      "11\n",
      "13\n",
      "15\n",
      "17\n",
      "19\n",
      "21\n",
      "23\n",
      "25\n",
      "27\n",
      "29\n",
      "31\n",
      "33\n",
      "35\n",
      "37\n",
      "39\n",
      "41\n",
      "43\n",
      "45\n",
      "47\n",
      "49\n",
      "51\n",
      "53\n",
      "55\n",
      "57\n",
      "59\n",
      "61\n",
      "63\n",
      "65\n",
      "67\n",
      "69\n",
      "71\n",
      "73\n",
      "75\n",
      "77\n",
      "79\n",
      "81\n",
      "83\n",
      "85\n",
      "87\n",
      "89\n",
      "91\n",
      "93\n",
      "95\n",
      "97\n",
      "99\n"
     ]
    }
   ],
   "source": [
    "for i in range(101):\n",
    "    if i%2!=0:\n",
    "        print(i)"
   ]
  },
  {
   "cell_type": "markdown",
   "id": "e345e00d",
   "metadata": {},
   "source": [
    "## Task Exercise: Level 5b"
   ]
  },
  {
   "cell_type": "markdown",
   "id": "9d4703fc",
   "metadata": {},
   "source": [
    "### 1.Use for loop to iterate from 0 to 100 and print the sum of all numbers."
   ]
  },
  {
   "cell_type": "code",
   "execution_count": 59,
   "id": "54fa08b9",
   "metadata": {},
   "outputs": [
    {
     "name": "stdout",
     "output_type": "stream",
     "text": [
      "5050\n"
     ]
    }
   ],
   "source": [
    "num =100\n",
    "total = sum(range(num + 1))\n",
    "print(total)"
   ]
  },
  {
   "cell_type": "markdown",
   "id": "4b2ee42d",
   "metadata": {},
   "source": [
    "### 2.Use for loop to iterate from 0 to 100 and print the sum of all evens and the sum of all odds"
   ]
  },
  {
   "cell_type": "code",
   "execution_count": 60,
   "id": "f3d7ce6a",
   "metadata": {},
   "outputs": [
    {
     "name": "stdout",
     "output_type": "stream",
     "text": [
      "The sum of even numbers is = 2550\n",
      "The sum of odd numbers is 2500\n"
     ]
    }
   ],
   "source": [
    "n = 100\n",
    "even_sum = 0\n",
    "odd_sum = 0\n",
    "\n",
    "for n in range(0, n+1, 1):\n",
    "    if (n%2==0):\n",
    "        even_sum = even_sum + n\n",
    "    else:\n",
    "        odd_sum = odd_sum +n\n",
    "        \n",
    "print(\"The sum of even numbers is = {1}\". format(n, even_sum))\n",
    "print(\"The sum of odd numbers is {1}\". format(n, odd_sum))"
   ]
  },
  {
   "cell_type": "markdown",
   "id": "c7f52a58",
   "metadata": {},
   "source": [
    "## Task Exercise: Level 5c"
   ]
  },
  {
   "cell_type": "code",
   "execution_count": 61,
   "id": "bee025c9",
   "metadata": {},
   "outputs": [],
   "source": [
    "import pandas as pd\n",
    "import numpy as np\n",
    "import matplotlib.pyplot as plt"
   ]
  },
  {
   "cell_type": "markdown",
   "id": "12d3fd3a",
   "metadata": {},
   "source": [
    "### 1.Go to the data folder and use the Countries.ipynb file.Loop through the countries and extract all the countries containing the word land\n"
   ]
  },
  {
   "cell_type": "code",
   "execution_count": 62,
   "id": "106cda0c",
   "metadata": {},
   "outputs": [
    {
     "ename": "ModuleNotFoundError",
     "evalue": "No module named 'countries_data2'",
     "output_type": "error",
     "traceback": [
      "\u001b[1;31m---------------------------------------------------------------------------\u001b[0m",
      "\u001b[1;31mModuleNotFoundError\u001b[0m                       Traceback (most recent call last)",
      "\u001b[1;32m~\\AppData\\Local\\Temp\\ipykernel_11096\\2431714300.py\u001b[0m in \u001b[0;36m<module>\u001b[1;34m\u001b[0m\n\u001b[1;32m----> 1\u001b[1;33m \u001b[1;32mimport\u001b[0m \u001b[0mcountries_data2\u001b[0m\u001b[1;33m\u001b[0m\u001b[1;33m\u001b[0m\u001b[0m\n\u001b[0m\u001b[0;32m      2\u001b[0m \u001b[1;32mfrom\u001b[0m \u001b[0mcountries_data2\u001b[0m \u001b[1;32mimport\u001b[0m \u001b[0mlist_2\u001b[0m\u001b[1;33m\u001b[0m\u001b[1;33m\u001b[0m\u001b[0m\n",
      "\u001b[1;31mModuleNotFoundError\u001b[0m: No module named 'countries_data2'"
     ]
    }
   ],
   "source": [
    "import countries_data2\n",
    "from countries_data2 import list_2"
   ]
  },
  {
   "cell_type": "code",
   "execution_count": null,
   "id": "4f7b60e0",
   "metadata": {},
   "outputs": [],
   "source": []
  }
 ],
 "metadata": {
  "kernelspec": {
   "display_name": "Python 3 (ipykernel)",
   "language": "python",
   "name": "python3"
  },
  "language_info": {
   "codemirror_mode": {
    "name": "ipython",
    "version": 3
   },
   "file_extension": ".py",
   "mimetype": "text/x-python",
   "name": "python",
   "nbconvert_exporter": "python",
   "pygments_lexer": "ipython3",
   "version": "3.9.13"
  }
 },
 "nbformat": 4,
 "nbformat_minor": 5
}
